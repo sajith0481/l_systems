{
 "cells": [
  {
   "cell_type": "code",
   "execution_count": 2,
   "id": "147fd529",
   "metadata": {},
   "outputs": [
    {
     "name": "stdout",
     "output_type": "stream",
     "text": [
      "Collecting matplotlib\n",
      "  Using cached matplotlib-3.9.0-cp312-cp312-win_amd64.whl.metadata (11 kB)\n",
      "Collecting contourpy>=1.0.1 (from matplotlib)\n",
      "  Using cached contourpy-1.2.1-cp312-cp312-win_amd64.whl.metadata (5.8 kB)\n",
      "Collecting cycler>=0.10 (from matplotlib)\n",
      "  Using cached cycler-0.12.1-py3-none-any.whl.metadata (3.8 kB)\n",
      "Requirement already satisfied: fonttools>=4.22.0 in c:\\python312\\lib\\site-packages (from matplotlib) (4.53.0)\n",
      "Requirement already satisfied: kiwisolver>=1.3.1 in c:\\python312\\lib\\site-packages (from matplotlib) (1.4.5)\n",
      "Requirement already satisfied: numpy>=1.23 in c:\\python312\\lib\\site-packages (from matplotlib) (1.26.4)\n",
      "Requirement already satisfied: packaging>=20.0 in c:\\users\\sajit\\appdata\\roaming\\python\\python312\\site-packages (from matplotlib) (24.1)\n",
      "Requirement already satisfied: pillow>=8 in c:\\python312\\lib\\site-packages (from matplotlib) (10.3.0)\n",
      "Requirement already satisfied: pyparsing>=2.3.1 in c:\\python312\\lib\\site-packages (from matplotlib) (3.1.2)\n",
      "Requirement already satisfied: python-dateutil>=2.7 in c:\\users\\sajit\\appdata\\roaming\\python\\python312\\site-packages (from matplotlib) (2.9.0.post0)\n",
      "Requirement already satisfied: six>=1.5 in c:\\users\\sajit\\appdata\\roaming\\python\\python312\\site-packages (from python-dateutil>=2.7->matplotlib) (1.16.0)\n",
      "Using cached matplotlib-3.9.0-cp312-cp312-win_amd64.whl (8.0 MB)\n",
      "Using cached contourpy-1.2.1-cp312-cp312-win_amd64.whl (189 kB)\n",
      "Using cached cycler-0.12.1-py3-none-any.whl (8.3 kB)\n",
      "Installing collected packages: cycler, contourpy, matplotlib\n",
      "Successfully installed contourpy-1.2.1 cycler-0.12.1 matplotlib-3.9.0\n",
      "Note: you may need to restart the kernel to use updated packages.\n"
     ]
    }
   ],
   "source": [
    "pip install matplotlib"
   ]
  },
  {
   "cell_type": "code",
   "execution_count": 1,
   "id": "ce7fc737-fae2-4ea3-8463-61b007e9d854",
   "metadata": {
    "jp-MarkdownHeadingCollapsed": true
   },
   "outputs": [],
   "source": [
    "import matplotlib.pyplot as plt\n",
    "import math"
   ]
  },
  {
   "cell_type": "code",
   "execution_count": 2,
   "id": "6d2f93b3-9050-4e9e-98dd-45b412335de7",
   "metadata": {},
   "outputs": [],
   "source": [
    "axial_tree_string = \"F[+F][-F[-F]F]F[+F][-F]\"\n",
    "delta = math.radians(45)\n",
    "l = 1"
   ]
  },
  {
   "cell_type": "code",
   "execution_count": 3,
   "id": "ff8d4b75-05f0-429e-b46d-2325cf250ef6",
   "metadata": {},
   "outputs": [],
   "source": [
    "def create_line_segments_from_bracketed_ol_system(axial_tree_string, delta, l):\n",
    "    (x0, y0) = (0, 0)\n",
    "    line_segments = [((x0, y0), (x0, y0))]\n",
    "    states = [((x0, y0), math.radians(90))]\n",
    "    current_state = states[0]\n",
    "    for c in axial_tree_string:\n",
    "        if c == 'F':\n",
    "            current_point = current_state[0]\n",
    "            new_point = (current_point[0] + l*math.cos(current_state[1]), current_point[1] + l*math.sin(current_state[1]))\n",
    "            line_segments.append((current_point, new_point))\n",
    "            current_state = ((new_point), current_state[1])\n",
    "        if c == '[':\n",
    "            states.append(current_state)\n",
    "        if c == ']':\n",
    "            current_state = states.pop()\n",
    "        if  c == '+':\n",
    "            temp_state = current_state\n",
    "            current_state = (temp_state[0], current_state[1] + delta)\n",
    "        if  c == '-':\n",
    "            temp_state = current_state\n",
    "            current_state = (temp_state[0], current_state[1] - delta)\n",
    "    return line_segments"
   ]
  },
  {
   "cell_type": "code",
   "execution_count": 4,
   "id": "ed827822-9693-4d5b-a74f-69c50253d4fd",
   "metadata": {},
   "outputs": [
    {
     "data": {
      "image/png": "[encoded data removed]",
      "text/plain": [
       "<Figure size 640x480 with 1 Axes>"
      ]
     },
     "metadata": {},
     "output_type": "display_data"
    }
   ],
   "source": [
    "def plot_line_segment(start_point, end_point, ax):\n",
    "    \"\"\"Plot a line segment between two points.\"\"\"\n",
    "    x_values = [start_point[0], end_point[0]]\n",
    "    y_values = [start_point[1], end_point[1]]\n",
    "    ax.plot(x_values, y_values, marker='o', color='black')  # You can specify different colors\n",
    "\n",
    "# Set up plot\n",
    "fig, ax = plt.subplots()\n",
    "ax.set_aspect('equal')\n",
    "plt.grid(True)\n",
    "plt.title('Branching Structure')\n",
    "plt.xlabel('X axis')\n",
    "plt.ylabel('Y axis')\n",
    "\n",
    "line_segments = create_line_segments_from_bracketed_ol_system(axial_tree_string, delta, l)\n",
    "# Plot each branch\n",
    "for line_segment in line_segments:\n",
    "    plot_line_segment(line_segment[0], line_segment[1], ax)\n",
    "\n",
    "# Setting plot limits\n",
    "plt.xlim(-10, 10)\n",
    "plt.ylim(0, 10)\n",
    "\n",
    "# Show plot\n",
    "plt.show()"
   ]
  },
  {
   "cell_type": "code",
   "execution_count": null,
   "id": "5357b2b6-9634-4a65-b986-0e5dfa57300f",
   "metadata": {},
   "outputs": [],
   "source": []
  }
 ],
 "metadata": {
  "kernelspec": {
   "display_name": "Python 3 (ipykernel)",
   "language": "python",
   "name": "python3"
  },
  "language_info": {
   "codemirror_mode": {
    "name": "ipython",
    "version": 3
   },
   "file_extension": ".py",
   "mimetype": "text/x-python",
   "name": "python",
   "nbconvert_exporter": "python",
   "pygments_lexer": "ipython3",
   "version": "3.12.2"
  }
 },
 "nbformat": 4,
 "nbformat_minor": 5
}
